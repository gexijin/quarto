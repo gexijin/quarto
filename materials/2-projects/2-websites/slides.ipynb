{
  "cells": [
    {
      "cell_type": "raw",
      "metadata": {},
      "source": [
        "---\n",
        "title: \"Websites\"\n",
        "format: qmdrslides-revealjs\n",
        "---"
      ],
      "id": "0f512527"
    },
    {
      "cell_type": "markdown",
      "metadata": {},
      "source": [
        "## Anatomy of a Project\n",
        "\n",
        "Websites, like any project, are defined by `_quarto.yml`.\n",
        "\n",
        "\n",
        "```{yaml}\n",
        "project:\n",
        "  type: website\n",
        "\n",
        "website:\n",
        "  title: \"posit-conf\"\n",
        "  navbar:\n",
        "    left:\n",
        "      - href: index.qmd\n",
        "        text: Home\n",
        "      - about.qmd\n",
        "```"
      ],
      "id": "9c22b962"
    }
  ],
  "metadata": {
    "kernelspec": {
      "display_name": "Python 3",
      "language": "python",
      "name": "python3"
    }
  },
  "nbformat": 4,
  "nbformat_minor": 5
}